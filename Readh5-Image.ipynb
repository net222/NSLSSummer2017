{
 "cells": [
  {
   "cell_type": "code",
   "execution_count": 8,
   "metadata": {},
   "outputs": [
    {
     "name": "stdout",
     "output_type": "stream",
     "text": [
      "Populating the interactive namespace from numpy and matplotlib\n"
     ]
    }
   ],
   "source": [
    "%pylab inline\n",
    "import h5py\n",
    "import sys\n",
    "import numpy \n",
    "import matplotlib.pyplot as plt\n",
    "import matplotlib.cm as cm"
   ]
  },
  {
   "cell_type": "code",
   "execution_count": 9,
   "metadata": {
    "collapsed": true
   },
   "outputs": [],
   "source": [
    "def dispImage(img,min=0,max=1024, log=True):\n",
    "    ## image plotter ##\n",
    "      plt.ion()\n",
    "      if img is None: return\n",
    "      figure = plt.figure(figsize=(16,4))\n",
    "      if log:\n",
    "          img = numpy.log(img)\n",
    "      pltimg = img.astype(numpy.float32)\n",
    "      im = plt.imshow(pltimg,cmap=cm.hot)\n",
    "      plt.colorbar()\n",
    "      im.set_clim(min,max)\n",
    "      plt.draw()\n",
    "      #raw_input(\"press enter to continue\")\n",
    "      \n",
    "      return figure"
   ]
  },
  {
   "cell_type": "code",
   "execution_count": 10,
   "metadata": {
    "collapsed": true
   },
   "outputs": [],
   "source": [
    "class ImageReadException(Exception):\n",
    "    def __init__(self, value):\n",
    "        self.value = value\n",
    "    def __str__(self):\n",
    "        return repr(self.value)"
   ]
  },
  {
   "cell_type": "code",
   "execution_count": 11,
   "metadata": {
    "collapsed": true
   },
   "outputs": [],
   "source": [
    "def createLUT(hdf5File):\n",
    "    LUT = {}\n",
    "    entry = hdf5File['entry']\n",
    "    \n",
    "    for datalink in list(entry['data']):\n",
    "        if not(datalink[0:4] == 'data'): \n",
    "            continue\n",
    "        \n",
    "        ### open the link ###\n",
    "        try:\n",
    "            data = entry['data'][datalink] \n",
    "            #print (data)\n",
    "        except KeyError as exception: ### cannot open link, probably file does not exist\n",
    "            continue\n",
    "\n",
    "        \n",
    "        ### read the image_nr_low and image_nr_high attributes ###\n",
    "        image_nr_low  = data.attrs['image_nr_low']\n",
    "        image_nr_high = data.attrs['image_nr_high']\n",
    "\n",
    "        for imgNr in range(image_nr_low-1, image_nr_high):\n",
    "            LUT[imgNr] = (datalink, imgNr-image_nr_low)\n",
    "    \n",
    "    return LUT"
   ]
  },
  {
   "cell_type": "code",
   "execution_count": 12,
   "metadata": {
    "collapsed": true
   },
   "outputs": [],
   "source": [
    "def readImage(imgNr, LUT, hdf5File):\n",
    "    datalink = ''\n",
    "    try:\n",
    "        (datalink, imageNrOffset) = LUT[imgNr]\n",
    "    except KeyError as e: \n",
    "        raise ImageReadException('imgNr ({0}) out of range'.format(imgNr))\n",
    "    \n",
    "    \n",
    "    data = hdf5File['entry']['data'][datalink]\n",
    "    ### use slicing access to get images with image number imageNrOffset ###\n",
    "    image = data[imageNrOffset, : , : ] ## z / y / x\n",
    "    #print(image)\n",
    "    intensitymatrix = data[-1, :, :]  ## z / y / x\n",
    "    #print(image.shape)\n",
    "    #print(image[590:600,450:460]) #row first, then column\n",
    "    return image ## is a numpy array"
   ]
  },
  {
   "cell_type": "code",
   "execution_count": 13,
   "metadata": {},
   "outputs": [],
   "source": [
    "masterFilename = '/Users/charlespan/data/calibrate_012_002_master.h5'\n",
    "hdf5File = h5py.File(masterFilename, 'r')\n",
    "\n",
    "######### NEXUS HEADER ITEMS #########\n",
    "\n",
    "### example: list all entries in /entry/instrument/detector ###\n",
    "detector = hdf5File['entry']['instrument']['detector']\n",
    "#print (\"entries in detector: \", list(detector))\n",
    "#print (list(hdf5File['entry']))\n",
    "#print ((hdf5File['entry']['data']['data_000001']))\n",
    "### example: get the gain settings ###\n",
    "# gain_setting = detector['gain_setting']\n",
    "# print \"gain setting: \", gain_setting[0] ### remark: In NeXus, data is always\n",
    "                                        ### stored as arrays, even if the data is scalar."
   ]
  },
  {
   "cell_type": "code",
   "execution_count": 14,
   "metadata": {
    "collapsed": true
   },
   "outputs": [],
   "source": [
    "######### IMAGES #########\n",
    "\n",
    "### first create the LUT to find the path to the images ###\n",
    "    \n",
    "LUT = createLUT(hdf5File)\n",
    "imgNr = 0\n",
    "\n",
    "image = readImage(imgNr, LUT, hdf5File)\n",
    "    \n",
    "### do whatever you want with the image ###\n",
    "### e.g. draw the image ###\n",
    "    \n",
    "#if mpl:\n",
    "     #dispImage(image,  max=10, log=False)"
   ]
  },
  {
   "cell_type": "code",
   "execution_count": 15,
   "metadata": {},
   "outputs": [
    {
     "name": "stdout",
     "output_type": "stream",
     "text": [
      "<HDF5 file \"calibrate_012_002_master.h5\" (mode r)>\n"
     ]
    }
   ],
   "source": [
    "masterFilename1 = '/Users/charlespan/data/calibrate_012_002_master.h5'\n",
    "hdf5File1 = h5py.File(masterFilename1, 'r')\n",
    "print(hdf5File1)\n",
    "data = hdf5File1"
   ]
  },
  {
   "cell_type": "code",
   "execution_count": 17,
   "metadata": {},
   "outputs": [
    {
     "name": "stderr",
     "output_type": "stream",
     "text": [
      "/Users/charlespan/anaconda/lib/python2.7/site-packages/ipykernel_launcher.py:7: RuntimeWarning: divide by zero encountered in log\n",
      "  import sys\n"
     ]
    },
    {
     "data": {
      "image/png": "[encoded data removed]",
      "text/plain": [
       "<matplotlib.figure.Figure at 0x1096cbb50>"
      ]
     },
     "metadata": {},
     "output_type": "display_data"
    }
   ],
   "source": [
    "def main():\n",
    "    masterFilename = '/Users/charlespan/data/calibrate_012_002_master.h5'\n",
    "    hdf5File = h5py.File(masterFilename, 'r')\n",
    "    #print(\"Keys: %s\" % hdf5File.keys())\n",
    "    #a_group_key = hdf5File.keys()[0]\n",
    "    #data = list(hdf5File[a_group_key])\n",
    "    #print (data)\n",
    "\n",
    "\n",
    "    ######### NEXUS HEADER ITEMS #########\n",
    "\n",
    "    ### example: list all entries in /entry/instrument/detector ###\n",
    "    detector = hdf5File['entry']['instrument']['detector']\n",
    "    #print (\"entries in detector: \", list(detector))\n",
    "    \n",
    "    ### example: get the gain settings ###\n",
    "    #gain_setting = detector['gain_setting']\n",
    "    #print \"gain setting: \", gain_setting[0] ### remark: In NeXus, data is always\n",
    "                                            ### stored as arrays, even if the data is scalar. \n",
    "    \n",
    "\n",
    "\n",
    "\n",
    "\n",
    "    ######### IMAGES #########\n",
    "\n",
    "    ### first create the LUT to find the path to the images ###\n",
    "    \n",
    "    LUT = createLUT(hdf5File)\n",
    "    #print (LUT[0])\n",
    "    ### then read the image imgNr ###\n",
    "    imgNr = 0\n",
    "\n",
    "    flatdata = readImage(imgNr, LUT, hdf5File)\n",
    "    #make_chart(image)\n",
    "    \n",
    "    #print(image)\n",
    "    ### do whatever you want with the image ###\n",
    "    ### e.g. draw the image ###\n",
    "    \n",
    "    if mpl:\n",
    "        dispImage(image,  max=15, log=True)\n",
    "\n",
    "\n",
    "\n",
    "\n",
    "if __name__=='__main__':\n",
    "    main()"
   ]
  },
  {
   "cell_type": "code",
   "execution_count": null,
   "metadata": {
    "collapsed": true
   },
   "outputs": [],
   "source": [
    "import h5py\n",
    "from h5py import h5z\n",
    "import numpy as np\n",
    "\n",
    "print (h5py.version.info)\n",
    "\n",
    "\n",
    "filters = { 'gzip': h5z.FILTER_DEFLATE,\n",
    "            'szip': h5z.FILTER_SZIP,\n",
    "            'shuffle': h5z.FILTER_SHUFFLE,\n",
    "            'lzf': h5z.FILTER_LZF,\n",
    "            'so': h5z.FILTER_SCALEOFFSET,\n",
    "            'f32': h5z.FILTER_FLETCHER32, }\n",
    "            \n",
    "print ('encode %d decode %d\\n' % (h5z.FILTER_CONFIG_ENCODE_ENABLED,\n",
    "                               h5z.FILTER_CONFIG_DECODE_ENABLED ))\n",
    "                               \n",
    "for name, filter in filters.items():\n",
    "    print (name)\n",
    "    print ('    ', h5z.filter_avail(filter))\n",
    "    if h5z.filter_avail(filter):\n",
    "        print ('    ', h5z.get_filter_info(filter))\n",
    "    \n",
    "with h5py.File('debug.hdf5', 'w') as f:\n",
    "    dset = f.create_dataset('x', (10,), compression='gzip')\n",
    "    dset[...] = np.arange(10)\n",
    "    print (dset[...])"
   ]
  },
  {
   "cell_type": "code",
   "execution_count": null,
   "metadata": {
    "collapsed": true
   },
   "outputs": [],
   "source": []
  }
 ],
 "metadata": {
  "kernelspec": {
   "display_name": "Python 2",
   "language": "python",
   "name": "python2"
  },
  "language_info": {
   "codemirror_mode": {
    "name": "ipython",
    "version": 2
   },
   "file_extension": ".py",
   "mimetype": "text/x-python",
   "name": "python",
   "nbconvert_exporter": "python",
   "pygments_lexer": "ipython2",
   "version": "2.7.13"
  }
 },
 "nbformat": 4,
 "nbformat_minor": 1
}
