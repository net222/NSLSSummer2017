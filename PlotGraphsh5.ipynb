{
 "cells": [
  {
   "cell_type": "code",
   "execution_count": 45,
   "metadata": {},
   "outputs": [
    {
     "name": "stdout",
     "output_type": "stream",
     "text": [
      "Populating the interactive namespace from numpy and matplotlib\n"
     ]
    },
    {
     "name": "stderr",
     "output_type": "stream",
     "text": [
      "/Users/charlespan/anaconda/lib/python2.7/site-packages/IPython/core/magics/pylab.py:161: UserWarning: pylab import has clobbered these variables: ['f', 'number']\n",
      "`%matplotlib` prevents importing * from pylab and numpy\n",
      "  \"\\n`%matplotlib` prevents importing * from pylab and numpy\"\n"
     ]
    }
   ],
   "source": [
    "%pylab inline\n",
    "import h5py\n",
    "import sys\n",
    "import numpy as np\n",
    "import matplotlib.pyplot as plt\n",
    "import matplotlib.cm as cm\n",
    "import matplotlib.mlab as mlab\n",
    "import os\n",
    "import mpl_toolkits.mplot3d.axes3d as axes3d\n",
    "import scipy.interpolate as interpolate\n",
    "masterFilename = \"/Users/charlespan/Data/calibrate_012_002_master.h5\""
   ]
  },
  {
   "cell_type": "code",
   "execution_count": 46,
   "metadata": {
    "collapsed": true
   },
   "outputs": [],
   "source": [
    "def dispImage(img,min=0,max=1024, log=True):\n",
    "    ## image plotter ##\n",
    "      #plt.ion()\n",
    "      #if img is None: return\n",
    "      #figure = plt.figure(figsize=(16,8))\n",
    "      #plt.xlim(0,1000)\n",
    "      #plt.ylim(600,300)\n",
    "      #if log:\n",
    "          #img = np.log(img)\n",
    "      #pltimg = img.astype(np.float32)\n",
    "      #im = plt.imshow(pltimg,cmap=cm.nipy_spectral)\n",
    "      #plt.colorbar()\n",
    "      #im.set_clim(min,max)\n",
    "      #plt.draw()\n",
    "      #input(\"press enter to continue\")\n",
    "      \n",
    "    ##this is mine\n",
    "      plt.ion()\n",
    "      if img is None: return\n",
    "      figure = plt.figure(figsize=(16,4))\n",
    "      #plt.xlim(0,1000)\n",
    "      #plt.ylim(500,300)\n",
    "      if log:\n",
    "          img = numpy.log(img)\n",
    "      pltimg = img.astype(numpy.float32)\n",
    "      im = plt.imshow(pltimg,cmap=cm.hot)\n",
    "      plt.colorbar()\n",
    "      im.set_clim(min,max)\n",
    "      plt.draw()\n",
    "    \n",
    "      return figure"
   ]
  },
  {
   "cell_type": "code",
   "execution_count": 47,
   "metadata": {
    "collapsed": true
   },
   "outputs": [],
   "source": [
    "class ImageReadException(Exception):\n",
    "    def __init__(self, value):\n",
    "        self.value = value\n",
    "    def __str__(self):\n",
    "        return repr(self.value)"
   ]
  },
  {
   "cell_type": "code",
   "execution_count": 48,
   "metadata": {
    "collapsed": true
   },
   "outputs": [],
   "source": [
    "def createLUT(hdf5File):\n",
    "    LUT = {}\n",
    "    entry = hdf5File['entry']\n",
    "    \n",
    "    for datalink in list(entry['data']):\n",
    "        if not(datalink[0:4] == 'data'): \n",
    "            continue\n",
    "        \n",
    "        ### open the link ###\n",
    "        try:\n",
    "            data = entry['data'][datalink] \n",
    "            #print (data)\n",
    "        except KeyError as exception: ### cannot open link, probably file does not exist\n",
    "            continue\n",
    "\n",
    "        \n",
    "        ### read the image_nr_low and image_nr_high attributes ###\n",
    "        image_nr_low  = data.attrs['image_nr_low']\n",
    "        image_nr_high = data.attrs['image_nr_high']\n",
    "\n",
    "        for imgNr in range(image_nr_low-1, image_nr_high):\n",
    "            LUT[imgNr] = (datalink, imgNr-image_nr_low)\n",
    "    \n",
    "    return LUT"
   ]
  },
  {
   "cell_type": "code",
   "execution_count": 49,
   "metadata": {
    "collapsed": true
   },
   "outputs": [],
   "source": [
    "def readImage(imgNr, LUT, hdf5File):\n",
    "    datalink = ''\n",
    "    try:\n",
    "        (datalink, imageNrOffset) = LUT[imgNr]\n",
    "    except KeyError as e:\n",
    "        raise ImageReadException('imgNr ({0}) out of range'.format(imgNr))\n",
    "    \n",
    "    \n",
    "    data = hdf5File['entry']['data'][datalink]\n",
    "    ### use slicing access to get images with image number imageNrOffset ###\n",
    "    image = data[imageNrOffset, : , : ] ## z / y / x\n",
    "    #print(image)\n",
    "    intensitymatrix = data[-1, :, :]  ## z / y / x\n",
    "    #print(image.shape)\n",
    "    #print(image[590:600,450:460]) #row first, then column\n",
    "    return image ## is a numpy array"
   ]
  },
  {
   "cell_type": "code",
   "execution_count": 50,
   "metadata": {},
   "outputs": [
    {
     "name": "stdout",
     "output_type": "stream",
     "text": [
      "<HDF5 dataset \"data\": shape (1, 1065, 1030), type \"<u4\">\n"
     ]
    }
   ],
   "source": [
    "#masterFilename = '/Users/charlespan/data/second_79_master.h5'\n",
    "hdf5File = h5py.File(masterFilename, 'r')\n",
    "\n",
    "######### NEXUS HEADER ITEMS #########\n",
    "\n",
    "### example: list all entries in /entry/instrument/detector ###\n",
    "detector = hdf5File['entry']['instrument']['detector']\n",
    "#print (\"entries in detector: \", list(detector))\n",
    "#print (list(hdf5File['entry']))\n",
    "print ((hdf5File['entry']['data']['data_000001']))\n",
    "### example: get the gain settings ###\n",
    "# gain_setting = detector['gain_setting']\n",
    "# print \"gain setting: \", gain_setting[0] ### remark: In NeXus, data is always\n",
    "                                        ### stored as arrays, even if the data is scalar."
   ]
  },
  {
   "cell_type": "code",
   "execution_count": 51,
   "metadata": {
    "collapsed": true
   },
   "outputs": [],
   "source": [
    "######### IMAGES #########\n",
    "\n",
    "### first create the LUT to find the path to the images ###\n",
    "    \n",
    "LUT = createLUT(hdf5File)\n",
    "imgNr = 0\n",
    "\n",
    "image = readImage(imgNr, LUT, hdf5File)\n",
    "    \n",
    "### do whatever you want with the image ###\n",
    "### e.g. draw the image ###\n",
    "    \n",
    "#if mpl:\n",
    "     #dispImage(image,  max=10, log=False)"
   ]
  },
  {
   "cell_type": "code",
   "execution_count": 52,
   "metadata": {},
   "outputs": [
    {
     "name": "stdout",
     "output_type": "stream",
     "text": [
      "<HDF5 file \"calibrate_012_002_master.h5\" (mode r)>\n"
     ]
    }
   ],
   "source": [
    "#masterFilename = '/Users/charlespan/data/second_79_master.h5'\n",
    "hdf5File1 = h5py.File(masterFilename, 'r')\n",
    "print(hdf5File1)\n",
    "data = hdf5File1"
   ]
  },
  {
   "cell_type": "code",
   "execution_count": 64,
   "metadata": {},
   "outputs": [
    {
     "name": "stdout",
     "output_type": "stream",
     "text": [
      "[[4294967295          0          0 ...,          0          0 4294967295]\n",
      " [4294967295          0          0 ...,          0          0 4294967295]\n",
      " [         0          0          0 ...,          0          0          0]\n",
      " ..., \n",
      " [         0          0          0 ...,          0          0          0]\n",
      " [         1          0          0 ...,          0          0 4294967295]\n",
      " [4294967295          1          0 ...,          0          0 4294967295]]\n",
      "[[         0          0          0 ...,          0          0          0]\n",
      " [         0          0          0 ...,          0          0          0]\n",
      " [         0          0          0 ...,          0          0          0]\n",
      " ..., \n",
      " [4294967295 4294967295 4294967295 ..., 4294967295 4294967295 4294967295]\n",
      " [4294967295 4294967295 4294967295 ..., 4294967295 4294967295 4294967295]\n",
      " [4294967295 4294967295 4294967295 ..., 4294967295 4294967295 4294967295]]\n"
     ]
    },
    {
     "name": "stderr",
     "output_type": "stream",
     "text": [
      "/Users/charlespan/anaconda/lib/python2.7/site-packages/ipykernel_launcher.py:24: RuntimeWarning: divide by zero encountered in log\n"
     ]
    },
    {
     "data": {
      "image/png": "[encoded data removed]",
      "text/plain": [
       "<matplotlib.figure.Figure at 0x114110b50>"
      ]
     },
     "metadata": {},
     "output_type": "display_data"
    }
   ],
   "source": [
    "def main():\n",
    "    #masterFilename = '/Users/charlespan/data/second_79_master.h5'\n",
    "    hdf5File = h5py.File(masterFilename, 'r')\n",
    "    #print(\"Keys: %s\" % hdf5File.keys())\n",
    "    #a_group_key = hdf5File.keys()[0]\n",
    "    #data = list(hdf5File[a_group_key])\n",
    "    #print (data)\n",
    "\n",
    "\n",
    "    ######### NEXUS HEADER ITEMS #########\n",
    "\n",
    "    ### example: list all entries in /entry/instrument/detector ###\n",
    "    detector = hdf5File['entry']['instrument']['detector']\n",
    "    ### example: get the gain settings ###\n",
    "    #gain_setting = detector['gain_setting']\n",
    "    #print \"gain setting: \", gain_setting[0] ### remark: In NeXus, data is always\n",
    "                                            ### stored as arrays, even if the data is scalar. \n",
    "    \n",
    "\n",
    "\n",
    "\n",
    "\n",
    "    ######### IMAGES #########\n",
    "\n",
    "    ### first create the LUT to find the path to the images ###\n",
    "    \n",
    "    LUT = createLUT(hdf5File)\n",
    "    #print (LUT[0])\n",
    "    ### then read the image imgNr ###\n",
    "    imgNr = 0\n",
    "    image = readImage (imgNr, LUT, hdf5File)\n",
    "    print(image)\n",
    "    data = numpy.array(image)\n",
    "    flatdata = data.flatten()\n",
    "    \n",
    "    #print(image)\n",
    "    ### do whatever you want with the image ###\n",
    "    ### e.g. draw the image ###\n",
    "    \n",
    "    if mpl:\n",
    "        smallimage = image[350:550, 500:650]\n",
    "        print(smallimage)\n",
    "        dispImage(smallimage,  max=10, log=True)\n",
    "\n",
    "\n",
    "\n",
    "\n",
    "if __name__=='__main__':\n",
    "    main()"
   ]
  },
  {
   "cell_type": "code",
   "execution_count": 54,
   "metadata": {},
   "outputs": [
    {
     "name": "stdout",
     "output_type": "stream",
     "text": [
      "Summary of the h5py configuration\n",
      "---------------------------------\n",
      "\n",
      "h5py    2.7.0\n",
      "HDF5    1.8.18\n",
      "Python  2.7.13 |Anaconda 4.4.0 (x86_64)| (default, Dec 20 2016, 23:05:08) \n",
      "[GCC 4.2.1 Compatible Apple LLVM 6.0 (clang-600.0.57)]\n",
      "sys.platform    darwin\n",
      "sys.maxsize     9223372036854775807\n",
      "numpy   1.12.1\n",
      "\n",
      "encode 1 decode 2\n",
      "\n",
      "shuffle\n",
      "('    ', True)\n",
      "('    ', 3)\n",
      "f32\n",
      "('    ', True)\n",
      "('    ', 3)\n",
      "szip\n",
      "('    ', True)\n",
      "('    ', 3)\n",
      "gzip\n",
      "('    ', True)\n",
      "('    ', 3)\n",
      "so\n",
      "('    ', True)\n",
      "('    ', 3)\n",
      "lzf\n",
      "('    ', True)\n",
      "('    ', 3)\n",
      "[ 0.  1.  2.  3.  4.  5.  6.  7.  8.  9.]\n"
     ]
    }
   ],
   "source": [
    "import h5py\n",
    "from h5py import h5z\n",
    "import numpy as np\n",
    "\n",
    "print (h5py.version.info)\n",
    "\n",
    "\n",
    "filters = { 'gzip': h5z.FILTER_DEFLATE,\n",
    "            'szip': h5z.FILTER_SZIP,\n",
    "            'shuffle': h5z.FILTER_SHUFFLE,\n",
    "            'lzf': h5z.FILTER_LZF,\n",
    "            'so': h5z.FILTER_SCALEOFFSET,\n",
    "            'f32': h5z.FILTER_FLETCHER32, }\n",
    "            \n",
    "print ('encode %d decode %d\\n' % (h5z.FILTER_CONFIG_ENCODE_ENABLED,\n",
    "                               h5z.FILTER_CONFIG_DECODE_ENABLED ))\n",
    "                               \n",
    "for name, filter in filters.items():\n",
    "    print (name)\n",
    "    print ('    ', h5z.filter_avail(filter))\n",
    "    if h5z.filter_avail(filter):\n",
    "        print ('    ', h5z.get_filter_info(filter))\n",
    "    \n",
    "with h5py.File('debug.hdf5', 'w') as f:\n",
    "    dset = f.create_dataset('x', (10,), compression='gzip')\n",
    "    dset[...] = np.arange(10)\n",
    "    print (dset[...])"
   ]
  },
  {
   "cell_type": "code",
   "execution_count": 55,
   "metadata": {},
   "outputs": [
    {
     "name": "stdout",
     "output_type": "stream",
     "text": [
      "(1.0971955769082515, 1.020446069022299)\n"
     ]
    }
   ],
   "source": [
    "def wavelength(energy): #energy unit: keV\n",
    "    h = 4.135667662 * 10**(-18) #keV*s Planck constant\n",
    "    c = 2.99792458 * 10**18 #A speed of light\n",
    "    return h*c/energy\n",
    "print(wavelength(11.3001) , wavelength(12.15))"
   ]
  },
  {
   "cell_type": "code",
   "execution_count": 56,
   "metadata": {
    "collapsed": true
   },
   "outputs": [],
   "source": [
    "def degtoarc (deg):\n",
    "    \"\"\"converts degree to arcs\n",
    "    deg: float\n",
    "    returns: float\n",
    "    \"\"\"\n",
    "    return deg/180*np.pi\n",
    "\n",
    "def arctodeg (arc):\n",
    "    \"\"\"converts arcs to degree\n",
    "    arc: float\n",
    "    returns: float\n",
    "    \"\"\"\n",
    "    return arc*180/np.pi"
   ]
  },
  {
   "cell_type": "code",
   "execution_count": 57,
   "metadata": {
    "collapsed": true
   },
   "outputs": [],
   "source": [
    "def PixelsToAngles(x,y,image): # x and y are numpy arrays.\n",
    "    x_offset = 0.0 # calibrated by STO peak\n",
    "    y_offset = 0.0 # calibrated by STO peak\n",
    "    dtheta = (75.0*10**(-6))/(35.0*10**(-2))*180.0/np.pi # angle per pixel\n",
    "    #print(dtheta)\n",
    "    return x * dtheta + x_offset, y * dtheta + y_offset\n",
    "x = []\n",
    "#for z in range (len(image)):\n",
    "for number in range (len(image[0])):\n",
    "    x.append(number)\n",
    "yeet = np.array(x)\n",
    "y = []\n",
    "for number in range (len(image)):\n",
    "    #for z in range (len(image[0])):\n",
    "    y.append(number)\n",
    "leet = np.array(y)"
   ]
  },
  {
   "cell_type": "code",
   "execution_count": 69,
   "metadata": {},
   "outputs": [
    {
     "data": {
      "text/plain": [
       "(0.088111355077348241, 0.39925108465169873)"
      ]
     },
     "execution_count": 69,
     "metadata": {},
     "output_type": "execute_result"
    }
   ],
   "source": [
    "def AnglesToQ(lamda, th, zeta, delta, nu): # angles should be numpy arrays.\n",
    "    #convert all degrees to arc.\n",
    "    th_a = degtoarc(th)\n",
    "    zeta_a = degtoarc(zeta)\n",
    "    delta_a = degtoarc(delta)\n",
    "    nu_a = degtoarc(nu)\n",
    "    Qz = (2 * np.pi / lamda) * (-np.sin(zeta_a)*(np.cos(nu_a)*np.cos(delta_a)-1) + np.cos(zeta_a)*np.sin(nu_a)*np.cos(delta_a)) + th_a * 0.0\n",
    "    Qx = (2 * np.pi / lamda) * (np.cos(th_a)*np.sin(delta_a)-np.sin(th_a)*((np.cos(zeta_a)*(np.cos(nu_a)*np.cos(delta_a)-1)+np.sin(zeta_a)*np.sin(nu_a)*np.cos(delta_a))))\n",
    "    Qy = (2 * np.pi / lamda) * (np.sin(th_a)*np.sin(delta_a)+np.cos(th_a)*(np.cos(zeta_a)*(np.cos(nu_a)*np.cos(delta_a)-1)+np.sin(zeta_a)*np.sin(nu_a)*np.cos(delta_a)))\n",
    "    return Qx, Qz\n",
    "lamda = wavelength(11.3001)\n",
    "AnglesToQ(lamda, 70.16, 5.2, 3.0, 4.0)"
   ]
  },
  {
   "cell_type": "code",
   "execution_count": 79,
   "metadata": {},
   "outputs": [
    {
     "name": "stdout",
     "output_type": "stream",
     "text": [
      "delta/twotheta\n"
     ]
    },
    {
     "data": {
      "image/png": "[encoded data removed]",
      "text/plain": [
       "<matplotlib.figure.Figure at 0x1189d29d0>"
      ]
     },
     "metadata": {},
     "output_type": "display_data"
    }
   ],
   "source": [
    "deltaarray, twothetaarray = PixelsToAngles(yeet, leet, readImage (imgNr, LUT, hdf5File))\n",
    "print(\"delta/twotheta\")\n",
    "width = 10\n",
    "levls = np.linspace(1,10,width)\n",
    "levls = np.concatenate((levls[:-1],np.linspace(10,100,width)))\n",
    "levls = np.concatenate((levls[:-1],np.linspace(100,1000,width)))\n",
    "levls = np.concatenate((levls[:-1],np.linspace(1000,10000,width)))\n",
    "levls = np.concatenate((levls[:-1],np.linspace(10000,100000,width)))\n",
    "levls = np.concatenate((levls[:-1],np.linspace(100000,1000000,width)))\n",
    "plt.contourf(deltaarray, twothetaarray, image, cmap=cm.rainbow, levels=levls)\n",
    "plt.ylabel(\"twotheta\")\n",
    "plt.xlabel(\"delta\")\n",
    "plt.colorbar()\n",
    "plt.show()"
   ]
  },
  {
   "cell_type": "code",
   "execution_count": 68,
   "metadata": {},
   "outputs": [
    {
     "name": "stdout",
     "output_type": "stream",
     "text": [
      "Qx/Qz\n"
     ]
    },
    {
     "data": {
      "image/png": "[encoded data removed]",
      "text/plain": [
       "<matplotlib.figure.Figure at 0x11343cb90>"
      ]
     },
     "metadata": {},
     "output_type": "display_data"
    }
   ],
   "source": [
    "Qxarray = []\n",
    "Qzarray = []\n",
    "for num in range (len(deltaarray)):\n",
    "    Qx = AnglesToQ(lamda, 70.16, 5.2, deltaarray[num], twothetaarray[num])[0]\n",
    "    Qxarray.append(Qx)\n",
    "for num in range (len(twothetaarray)):\n",
    "    Qz = AnglesToQ(lamda, 70.16, 5.2, deltaarray[0], twothetaarray[num])[1]\n",
    "    Qzarray.append(Qz)\n",
    "print(\"Qx/Qz\")\n",
    "plt.contourf(Qxarray, Qzarray, image, cmap = cm.rainbow)\n",
    "plt.ylabel('Qz')\n",
    "plt.xlabel('Qx')\n",
    "plt.colorbar()\n",
    "plt.show()"
   ]
  },
  {
   "cell_type": "code",
   "execution_count": null,
   "metadata": {
    "collapsed": true
   },
   "outputs": [],
   "source": []
  }
 ],
 "metadata": {
  "kernelspec": {
   "display_name": "Python 2",
   "language": "python",
   "name": "python2"
  },
  "language_info": {
   "codemirror_mode": {
    "name": "ipython",
    "version": 2
   },
   "file_extension": ".py",
   "mimetype": "text/x-python",
   "name": "python",
   "nbconvert_exporter": "python",
   "pygments_lexer": "ipython2",
   "version": "2.7.13"
  }
 },
 "nbformat": 4,
 "nbformat_minor": 1
}
