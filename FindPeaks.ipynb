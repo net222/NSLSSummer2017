{
 "cells": [
  {
   "cell_type": "code",
   "execution_count": 1,
   "metadata": {},
   "outputs": [
    {
     "name": "stdout",
     "output_type": "stream",
     "text": [
      "Populating the interactive namespace from numpy and matplotlib\n"
     ]
    }
   ],
   "source": [
    "%pylab inline\n",
    "import h5py\n",
    "#import sys\n",
    "import numpy as np\n",
    "#import matplotlib.pyplot as plt\n",
    "#import matplotlib.cm as cm\n",
    "#import mpl_toolkits.mplot3d.axes3d as axes3d\n",
    "#import scipy.interpolate as interpolate\n",
    "masterFilename = \"/Users/charlespan/Data/calibrate_012_002_master.h5\""
   ]
  },
  {
   "cell_type": "code",
   "execution_count": 2,
   "metadata": {
    "collapsed": true
   },
   "outputs": [],
   "source": [
    "def dispImage(img,min=0,max=1024, log=True):\n",
    "    ## image plotter ##\n",
    "      #plt.ion()\n",
    "      #if img is None: return\n",
    "      #figure = plt.figure(figsize=(16,8))\n",
    "      #plt.xlim(0,1000)\n",
    "      #plt.ylim(600,300)\n",
    "      #if log:\n",
    "          #img = np.log(img)\n",
    "      #pltimg = img.astype(np.float32)\n",
    "      #im = plt.imshow(pltimg,cmap=cm.nipy_spectral)\n",
    "      #plt.colorbar()\n",
    "      #im.set_clim(min,max)\n",
    "      #plt.draw()\n",
    "      #input(\"press enter to continue\")\n",
    "      \n",
    "    ##this is mine\n",
    "      plt.ion()\n",
    "      if img is None: return\n",
    "      figure = plt.figure(figsize=(16,4))\n",
    "      #plt.xlim(0,1000)\n",
    "      #plt.ylim(500,300)\n",
    "      if log:\n",
    "          img = numpy.log(img)\n",
    "      pltimg = img.astype(numpy.float32)\n",
    "      im = plt.imshow(pltimg,cmap=cm.hot)\n",
    "      plt.colorbar()\n",
    "      im.set_clim(min,max)\n",
    "      plt.draw()\n",
    "    \n",
    "      return figure"
   ]
  },
  {
   "cell_type": "code",
   "execution_count": 3,
   "metadata": {
    "collapsed": true
   },
   "outputs": [],
   "source": [
    "class ImageReadException(Exception):\n",
    "    def __init__(self, value):\n",
    "        self.value = value\n",
    "    def __str__(self):\n",
    "        return repr(self.value)"
   ]
  },
  {
   "cell_type": "code",
   "execution_count": 4,
   "metadata": {
    "collapsed": true
   },
   "outputs": [],
   "source": [
    "def createLUT(hdf5File):\n",
    "    LUT = {}\n",
    "    entry = hdf5File['entry']\n",
    "    \n",
    "    for datalink in list(entry['data']):\n",
    "        if not(datalink[0:4] == 'data'): \n",
    "            continue\n",
    "        \n",
    "        ### open the link ###\n",
    "        try:\n",
    "            data = entry['data'][datalink] \n",
    "            #print (data)\n",
    "        except KeyError as exception: ### cannot open link, probably file does not exist\n",
    "            continue\n",
    "\n",
    "        \n",
    "        ### read the image_nr_low and image_nr_high attributes ###\n",
    "        image_nr_low  = data.attrs['image_nr_low']\n",
    "        image_nr_high = data.attrs['image_nr_high']\n",
    "\n",
    "        for imgNr in range(image_nr_low-1, image_nr_high):\n",
    "            LUT[imgNr] = (datalink, imgNr-image_nr_low)\n",
    "    \n",
    "    return LUT"
   ]
  },
  {
   "cell_type": "code",
   "execution_count": 5,
   "metadata": {
    "collapsed": true
   },
   "outputs": [],
   "source": [
    "def readImage(imgNr, LUT, hdf5File):\n",
    "    datalink = ''\n",
    "    try:\n",
    "        (datalink, imageNrOffset) = LUT[imgNr]\n",
    "    except KeyError as e:\n",
    "        raise ImageReadException('imgNr ({0}) out of range'.format(imgNr))\n",
    "    \n",
    "    \n",
    "    data = hdf5File['entry']['data'][datalink]\n",
    "    ### use slicing access to get images with image number imageNrOffset ###\n",
    "    image = data[imageNrOffset, : , : ] ## z / y / x\n",
    "    #print(image)\n",
    "    intensitymatrix = data[-1, :, :]  ## z / y / x\n",
    "    #print(image.shape)\n",
    "    #print(image[590:600,450:460]) #row first, then column\n",
    "    return image ## is a numpy array"
   ]
  },
  {
   "cell_type": "code",
   "execution_count": 27,
   "metadata": {},
   "outputs": [
    {
     "data": {
      "image/png": "[encoded data removed]",
      "text/plain": [
       "<matplotlib.figure.Figure at 0x112bb64d0>"
      ]
     },
     "metadata": {},
     "output_type": "display_data"
    }
   ],
   "source": [
    "def main():\n",
    "    #masterFilename = '/Users/charlespan/data/second_79_master.h5'\n",
    "    hdf5File = h5py.File(masterFilename, 'r')\n",
    "    #print(\"Keys: %s\" % hdf5File.keys())\n",
    "    #a_group_key = hdf5File.keys()[0]\n",
    "    #data = list(hdf5File[a_group_key])\n",
    "    #print (data)\n",
    "\n",
    "\n",
    "    ######### NEXUS HEADER ITEMS #########\n",
    "\n",
    "    ### example: list all entries in /entry/instrument/detector ###\n",
    "    detector = hdf5File['entry']['instrument']['detector']\n",
    "    ### example: get the gain settings ###\n",
    "    #gain_setting = detector['gain_setting']\n",
    "    #print \"gain setting: \", gain_setting[0] ### remark: In NeXus, data is always\n",
    "                                            ### stored as arrays, even if the data is scalar. \n",
    "    \n",
    "\n",
    "\n",
    "\n",
    "\n",
    "    ######### IMAGES #########\n",
    "\n",
    "    ### first create the LUT to find the path to the images ###\n",
    "    \n",
    "    LUT = createLUT(hdf5File)\n",
    "    #print (LUT[0])\n",
    "    ### then read the image imgNr ###\n",
    "    imgNr = 0\n",
    "    image = readImage (imgNr, LUT, hdf5File)\n",
    "    #print(image)\n",
    "    data = np.array(image)\n",
    "    flatdata = data.flatten()\n",
    "    \n",
    "    #print(image)\n",
    "    ### do whatever you want with the image ###\n",
    "    ### e.g. draw the image ###\n",
    "    \n",
    "    if mpl:\n",
    "        smallimage = image\n",
    "        #print(smallimage)\n",
    "        dispImage(smallimage,  max=500, log=False)\n",
    "\n",
    "\n",
    "\n",
    "\n",
    "if __name__=='__main__':\n",
    "    main()"
   ]
  },
  {
   "cell_type": "code",
   "execution_count": null,
   "metadata": {
    "collapsed": true
   },
   "outputs": [],
   "source": [
    "def find_area (image):\n",
    "    for y in range (len(image)):\n",
    "        f"
   ]
  },
  {
   "cell_type": "code",
   "execution_count": 14,
   "metadata": {
    "collapsed": true
   },
   "outputs": [],
   "source": [
    "def find_peak (x_start, y_start, area, log):\n",
    "    maxintensity, loc_x, loc_y = 0, 0, 0\n",
    "    for y in range (len(area)): \n",
    "        for x in range (len(area[0])):\n",
    "            val = area[y][x]\n",
    "            if (val > maxintensity):\n",
    "                maxintensity = val\n",
    "                loc_x = x\n",
    "                loc_y = y\n",
    "    if log:\n",
    "        maxintensity = numpy.log(maxintensity)\n",
    "    return maxintensity, loc_x, loc_y, loc_x + x_start, loc_y + y_start"
   ]
  },
  {
   "cell_type": "code",
   "execution_count": 15,
   "metadata": {},
   "outputs": [
    {
     "data": {
      "text/plain": [
       "(3.8286413964890951, 36, 44, 426, 569)"
      ]
     },
     "execution_count": 15,
     "metadata": {},
     "output_type": "execute_result"
    }
   ],
   "source": [
    "hdf5File = h5py.File(masterFilename, 'r')\n",
    "LUT = createLUT(hdf5File)\n",
    "imgNr = 0\n",
    "image = readImage (imgNr, LUT, hdf5File)\n",
    "find_peak(390, 525, image[390:475,525:600], True)"
   ]
  },
  {
   "cell_type": "code",
   "execution_count": null,
   "metadata": {
    "collapsed": true
   },
   "outputs": [],
   "source": []
  }
 ],
 "metadata": {
  "kernelspec": {
   "display_name": "Python 2",
   "language": "python",
   "name": "python2"
  },
  "language_info": {
   "codemirror_mode": {
    "name": "ipython",
    "version": 2
   },
   "file_extension": ".py",
   "mimetype": "text/x-python",
   "name": "python",
   "nbconvert_exporter": "python",
   "pygments_lexer": "ipython2",
   "version": "2.7.13"
  }
 },
 "nbformat": 4,
 "nbformat_minor": 1
}
